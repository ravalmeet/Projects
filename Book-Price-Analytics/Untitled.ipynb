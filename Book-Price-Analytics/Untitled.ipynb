{
  "cells": [
    {
      "cell_type": "code",
      "execution_count": null,
      "id": "3052f76e-cbc1-4819-bb79-f50bfb05b134",
      "metadata": {
        "id": "3052f76e-cbc1-4819-bb79-f50bfb05b134"
      },
      "outputs": [],
      "source": [
        "import numpy as np\n",
        "import pandas as pd\n",
        "import matplotlib.pyplot as plt\n",
        "import seaborn as sns\n",
        "from sklearn.compose import ColumnTransformer\n",
        "from sklearn.preprocessing import StandardScaler, OneHotEncoder, LabelEncoder\n",
        "from sklearn.model_selection import train_test_split\n",
        "from sklearn.metrics import mean_squared_error, r2_score\n",
        "from sklearn.linear_model import LinearRegression\n",
        "from sklearn.ensemble import RandomForestRegressor, GradientBoostingRegressor, AdaBoostRegressor\n",
        "from sklearn.neighbors import KNeighborsRegressor\n",
        "from sklearn.svm import SVR\n",
        "from sklearn.pipeline import Pipeline\n",
        "import tensorflow as tf\n",
        "from tensorflow.keras.models import Sequential\n",
        "from tensorflow.keras.layers import Dense\n",
        "from tensorflow.keras.optimizers import Adam\n"
      ]
    },
    {
      "cell_type": "code",
      "execution_count": null,
      "id": "_WD0vGM2MRS3",
      "metadata": {
        "colab": {
          "base_uri": "https://localhost:8080/"
        },
        "id": "_WD0vGM2MRS3",
        "outputId": "a721f683-96b5-479d-bdf5-677b1d9f1c3b"
      },
      "outputs": [
        {
          "name": "stdout",
          "output_type": "stream",
          "text": [
            "Requirement already satisfied: catboost in /usr/local/lib/python3.10/dist-packages (1.2.5)\n",
            "Requirement already satisfied: graphviz in /usr/local/lib/python3.10/dist-packages (from catboost) (0.20.3)\n",
            "Requirement already satisfied: matplotlib in /usr/local/lib/python3.10/dist-packages (from catboost) (3.7.1)\n",
            "Requirement already satisfied: numpy>=1.16.0 in /usr/local/lib/python3.10/dist-packages (from catboost) (1.25.2)\n",
            "Requirement already satisfied: pandas>=0.24 in /usr/local/lib/python3.10/dist-packages (from catboost) (2.0.3)\n",
            "Requirement already satisfied: scipy in /usr/local/lib/python3.10/dist-packages (from catboost) (1.11.4)\n",
            "Requirement already satisfied: plotly in /usr/local/lib/python3.10/dist-packages (from catboost) (5.15.0)\n",
            "Requirement already satisfied: six in /usr/local/lib/python3.10/dist-packages (from catboost) (1.16.0)\n",
            "Requirement already satisfied: python-dateutil>=2.8.2 in /usr/local/lib/python3.10/dist-packages (from pandas>=0.24->catboost) (2.8.2)\n",
            "Requirement already satisfied: pytz>=2020.1 in /usr/local/lib/python3.10/dist-packages (from pandas>=0.24->catboost) (2023.4)\n",
            "Requirement already satisfied: tzdata>=2022.1 in /usr/local/lib/python3.10/dist-packages (from pandas>=0.24->catboost) (2024.1)\n",
            "Requirement already satisfied: contourpy>=1.0.1 in /usr/local/lib/python3.10/dist-packages (from matplotlib->catboost) (1.2.1)\n",
            "Requirement already satisfied: cycler>=0.10 in /usr/local/lib/python3.10/dist-packages (from matplotlib->catboost) (0.12.1)\n",
            "Requirement already satisfied: fonttools>=4.22.0 in /usr/local/lib/python3.10/dist-packages (from matplotlib->catboost) (4.53.1)\n",
            "Requirement already satisfied: kiwisolver>=1.0.1 in /usr/local/lib/python3.10/dist-packages (from matplotlib->catboost) (1.4.5)\n",
            "Requirement already satisfied: packaging>=20.0 in /usr/local/lib/python3.10/dist-packages (from matplotlib->catboost) (24.1)\n",
            "Requirement already satisfied: pillow>=6.2.0 in /usr/local/lib/python3.10/dist-packages (from matplotlib->catboost) (9.4.0)\n",
            "Requirement already satisfied: pyparsing>=2.3.1 in /usr/local/lib/python3.10/dist-packages (from matplotlib->catboost) (3.1.2)\n",
            "Requirement already satisfied: tenacity>=6.2.0 in /usr/local/lib/python3.10/dist-packages (from plotly->catboost) (8.5.0)\n"
          ]
        }
      ],
      "source": [
        "!pip install catboost"
      ]
    },
    {
      "cell_type": "code",
      "execution_count": null,
      "id": "ZW8FEfPwMTsS",
      "metadata": {
        "id": "ZW8FEfPwMTsS"
      },
      "outputs": [],
      "source": [
        "from catboost import CatBoostRegressor"
      ]
    },
    {
      "cell_type": "code",
      "execution_count": null,
      "id": "15198b68-2c66-44da-b34d-3256657c8712",
      "metadata": {
        "id": "15198b68-2c66-44da-b34d-3256657c8712"
      },
      "outputs": [],
      "source": [
        "book_df = pd.read_csv('data.csv')"
      ]
    },
    {
      "cell_type": "code",
      "execution_count": null,
      "id": "e05f7cb2-1489-4da9-b4d0-501f6020910f",
      "metadata": {
        "colab": {
          "base_uri": "https://localhost:8080/"
        },
        "id": "e05f7cb2-1489-4da9-b4d0-501f6020910f",
        "outputId": "4a6f32c9-2a1e-4030-8263-d4fe298b1b5e"
      },
      "outputs": [
        {
          "name": "stdout",
          "output_type": "stream",
          "text": [
            "Data Info:\n",
            "<class 'pandas.core.frame.DataFrame'>\n",
            "RangeIndex: 1000 entries, 0 to 999\n",
            "Data columns (total 5 columns):\n",
            " #   Column          Non-Null Count  Dtype \n",
            "---  ------          --------------  ----- \n",
            " 0   Pages           1000 non-null   int64 \n",
            " 1   Category        1000 non-null   object\n",
            " 2   Color Printing  1000 non-null   int64 \n",
            " 3   Paper Type      1000 non-null   object\n",
            " 4   Price           1000 non-null   int64 \n",
            "dtypes: int64(3), object(2)\n",
            "memory usage: 39.2+ KB\n",
            "None\n",
            "\n",
            "First few rows:\n",
            "   Pages   Category  Color Printing    Paper Type  Price\n",
            "0    207  Technical               0  Offset Paper     60\n",
            "1    210  Technical               0  Offset Paper     62\n",
            "2    206  Technical               0  Offset Paper     62\n",
            "3    218  Technical               0  Offset Paper     64\n",
            "4    209  Technical               0  Offset Paper     60\n"
          ]
        }
      ],
      "source": [
        "# Display basic information\n",
        "print(\"Data Info:\")\n",
        "print(book_df.info())\n",
        "print(\"\\nFirst few rows:\")\n",
        "print(book_df.head())"
      ]
    },
    {
      "cell_type": "code",
      "execution_count": null,
      "id": "Z4tkVC7ILP5F",
      "metadata": {
        "colab": {
          "base_uri": "https://localhost:8080/"
        },
        "id": "Z4tkVC7ILP5F",
        "outputId": "b0832a11-feb7-4791-bc76-83be2793037b"
      },
      "outputs": [
        {
          "name": "stdout",
          "output_type": "stream",
          "text": [
            "\n",
            "Value counts for each column:\n",
            "Category\n",
            "Technical      336\n",
            "Educational    333\n",
            "Office         331\n",
            "Name: count, dtype: int64\n",
            "Paper Type\n",
            "Offset Paper     615\n",
            "Coated Paper     196\n",
            "Writing Paper    189\n",
            "Name: count, dtype: int64\n"
          ]
        }
      ],
      "source": [
        "# Data Analytics\n",
        "print(\"\\nValue counts for each column:\")\n",
        "print(book_df['Category'].value_counts())\n",
        "print(book_df['Paper Type'].value_counts())"
      ]
    },
    {
      "cell_type": "code",
      "execution_count": null,
      "id": "GETZMIxKLWMa",
      "metadata": {
        "colab": {
          "base_uri": "https://localhost:8080/",
          "height": 564
        },
        "id": "GETZMIxKLWMa",
        "outputId": "004e1213-4386-4913-936c-90073cfdde27"
      },
      "outputs": [
        {
          "data": {
            "image/png": "[encoded data removed]",
            "text/plain": [
              "<Figure size 1000x600 with 1 Axes>"
            ]
          },
          "metadata": {},
          "output_type": "display_data"
        }
      ],
      "source": [
        "# Data Visualization\n",
        "plt.figure(figsize=(10, 6))\n",
        "sns.histplot(book_df['Price'], bins=20, kde=True)\n",
        "plt.title('Distribution of Prices')\n",
        "plt.xlabel('Price')\n",
        "plt.ylabel('Frequency')\n",
        "plt.show()"
      ]
    },
    {
      "cell_type": "code",
      "execution_count": null,
      "id": "bXWPDz_FLauV",
      "metadata": {
        "colab": {
          "base_uri": "https://localhost:8080/",
          "height": 618
        },
        "id": "bXWPDz_FLauV",
        "outputId": "77458ed0-5592-4b7c-a6fb-a3eaa7d22619"
      },
      "outputs": [
        {
          "data": {
            "image/png": "[encoded data removed]",
            "text/plain": [
              "<Figure size 1000x600 with 1 Axes>"
            ]
          },
          "metadata": {},
          "output_type": "display_data"
        }
      ],
      "source": [
        "plt.figure(figsize=(10, 6))\n",
        "sns.boxplot(x='Category', y='Price', data=book_df)\n",
        "plt.title('Price Distribution by Category')\n",
        "plt.xlabel('Category')\n",
        "plt.ylabel('Price')\n",
        "plt.xticks(rotation=45)\n",
        "plt.show()"
      ]
    },
    {
      "cell_type": "code",
      "execution_count": null,
      "id": "xgxer49oLbnu",
      "metadata": {
        "id": "xgxer49oLbnu"
      },
      "outputs": [],
      "source": [
        "# Convert categorical variables to numerical\n",
        "le = LabelEncoder()\n",
        "book_df['Category'] = le.fit_transform(book_df['Category'])\n",
        "book_df['Paper Type'] = le.fit_transform(book_df['Paper Type'])"
      ]
    },
    {
      "cell_type": "code",
      "execution_count": null,
      "id": "cUkrFA6pLdLL",
      "metadata": {
        "colab": {
          "base_uri": "https://localhost:8080/"
        },
        "id": "cUkrFA6pLdLL",
        "outputId": "24c7e0d5-7903-4cd1-c158-3ba2ecf8c6aa"
      },
      "outputs": [
        {
          "name": "stdout",
          "output_type": "stream",
          "text": [
            "\n",
            "Missing values:\n",
            "Pages             0\n",
            "Category          0\n",
            "Color Printing    0\n",
            "Paper Type        0\n",
            "Price             0\n",
            "dtype: int64\n"
          ]
        }
      ],
      "source": [
        "# Check for any missing values\n",
        "print(\"\\nMissing values:\")\n",
        "print(book_df.isnull().sum())"
      ]
    },
    {
      "cell_type": "code",
      "execution_count": null,
      "id": "Mmetm4-sLfaG",
      "metadata": {
        "id": "Mmetm4-sLfaG"
      },
      "outputs": [],
      "source": [
        "# Separate features and target variable\n",
        "X = book_df.drop(columns='Price')\n",
        "y = book_df['Price']"
      ]
    },
    {
      "cell_type": "code",
      "execution_count": null,
      "id": "EVkD7TsJLgT3",
      "metadata": {
        "id": "EVkD7TsJLgT3"
      },
      "outputs": [],
      "source": [
        "# Split the data\n",
        "X_train, X_test, y_train, y_test = train_test_split(X, y, test_size=0.2, random_state=123)\n"
      ]
    },
    {
      "cell_type": "code",
      "execution_count": null,
      "id": "je1P0s7nLhrO",
      "metadata": {
        "id": "je1P0s7nLhrO"
      },
      "outputs": [],
      "source": [
        "# Preprocessing pipeline\n",
        "preprocessor = ColumnTransformer(\n",
        "    transformers=[\n",
        "        ('num', StandardScaler(), X.columns)  # Apply StandardScaler to all numerical features\n",
        "    ],\n",
        "    remainder='passthrough'\n",
        ")"
      ]
    },
    {
      "cell_type": "code",
      "execution_count": null,
      "id": "YAWFFelKLjV3",
      "metadata": {
        "id": "YAWFFelKLjV3"
      },
      "outputs": [],
      "source": [
        "X_train_preprocessed = preprocessor.fit_transform(X_train)\n",
        "X_test_preprocessed = preprocessor.transform(X_test)"
      ]
    },
    {
      "cell_type": "code",
      "execution_count": null,
      "id": "mWa5o_VlLkuC",
      "metadata": {
        "id": "mWa5o_VlLkuC"
      },
      "outputs": [],
      "source": [
        "# Train and evaluate machine learning models\n",
        "\n",
        "models = {\n",
        "    'Linear Regression': LinearRegression(),\n",
        "    'Random Forest': RandomForestRegressor(random_state=123),\n",
        "    'Gradient Boosting': GradientBoostingRegressor(random_state=123),\n",
        "    'AdaBoost': AdaBoostRegressor(random_state=123),\n",
        "    'K-Nearest Neighbors': KNeighborsRegressor(),\n",
        "    'Support Vector Regressor': SVR(),\n",
        "    'GBDT (Gradient Boosting Decision Tree)': GradientBoostingRegressor(random_state=123),\n",
        "    'CatBoost': CatBoostRegressor(learning_rate=0.1, depth=6, iterations=500, random_state=123, verbose=0)\n",
        "}"
      ]
    },
    {
      "cell_type": "code",
      "execution_count": null,
      "id": "vPtNOw0VLoa8",
      "metadata": {
        "colab": {
          "base_uri": "https://localhost:8080/"
        },
        "id": "vPtNOw0VLoa8",
        "outputId": "a44ce317-54cc-42f5-d4b9-127f5f7080e0"
      },
      "outputs": [
        {
          "name": "stdout",
          "output_type": "stream",
          "text": [
            "Linear Regression - MSE: 62.72, R^2: 0.83\n",
            "Random Forest - MSE: 40.19, R^2: 0.89\n",
            "Gradient Boosting - MSE: 46.30, R^2: 0.87\n",
            "AdaBoost - MSE: 85.75, R^2: 0.76\n",
            "K-Nearest Neighbors - MSE: 41.83, R^2: 0.89\n",
            "Support Vector Regressor - MSE: 55.99, R^2: 0.85\n",
            "GBDT (Gradient Boosting Decision Tree) - MSE: 46.30, R^2: 0.87\n",
            "CatBoost - MSE: 42.94, R^2: 0.88\n"
          ]
        }
      ],
      "source": [
        "results = {}\n",
        "\n",
        "for name, model in models.items():\n",
        "    model.fit(X_train_preprocessed, y_train)\n",
        "    y_pred = model.predict(X_test_preprocessed)\n",
        "    mse = mean_squared_error(y_test, y_pred)\n",
        "    r2 = r2_score(y_test, y_pred)\n",
        "    results[name] = {'MSE': mse, 'R^2': r2}\n",
        "    print(f\"{name} - MSE: {mse:.2f}, R^2: {r2:.2f}\")"
      ]
    },
    {
      "cell_type": "code",
      "execution_count": null,
      "id": "TcmYSanfLqSV",
      "metadata": {
        "id": "TcmYSanfLqSV"
      },
      "outputs": [],
      "source": [
        "# Train and evaluate deep learning model\n",
        "\n",
        "def build_deep_learning_model(input_dim):\n",
        "    model = Sequential([\n",
        "        Dense(64, input_dim=input_dim, activation='relu'),\n",
        "        Dense(32, activation='relu'),\n",
        "        Dense(1)\n",
        "    ])\n",
        "    model.compile(optimizer=Adam(), loss='mean_squared_error')\n",
        "    return model\n"
      ]
    },
    {
      "cell_type": "code",
      "execution_count": null,
      "id": "r_7fPeFbLsFm",
      "metadata": {
        "colab": {
          "base_uri": "https://localhost:8080/"
        },
        "id": "r_7fPeFbLsFm",
        "outputId": "8e583671-b982-4eaa-c232-08b857e766f0"
      },
      "outputs": [
        {
          "name": "stdout",
          "output_type": "stream",
          "text": [
            "Epoch 1/50\n",
            "20/20 [==============================] - 1s 9ms/step - loss: 4488.2744 - val_loss: 4346.3721\n",
            "Epoch 2/50\n",
            "20/20 [==============================] - 0s 4ms/step - loss: 4353.2642 - val_loss: 4193.8921\n",
            "Epoch 3/50\n",
            "20/20 [==============================] - 0s 7ms/step - loss: 4165.3193 - val_loss: 3971.0044\n",
            "Epoch 4/50\n",
            "20/20 [==============================] - 0s 7ms/step - loss: 3887.2974 - val_loss: 3643.4270\n",
            "Epoch 5/50\n",
            "20/20 [==============================] - 0s 7ms/step - loss: 3489.6235 - val_loss: 3182.0864\n",
            "Epoch 6/50\n",
            "20/20 [==============================] - 0s 4ms/step - loss: 2950.9419 - val_loss: 2586.9119\n",
            "Epoch 7/50\n",
            "20/20 [==============================] - 0s 4ms/step - loss: 2293.8362 - val_loss: 1898.1266\n",
            "Epoch 8/50\n",
            "20/20 [==============================] - 0s 4ms/step - loss: 1577.7971 - val_loss: 1221.1667\n",
            "Epoch 9/50\n",
            "20/20 [==============================] - 0s 4ms/step - loss: 936.4336 - val_loss: 668.4281\n",
            "Epoch 10/50\n",
            "20/20 [==============================] - 0s 4ms/step - loss: 484.4782 - val_loss: 327.8379\n",
            "Epoch 11/50\n",
            "20/20 [==============================] - 0s 10ms/step - loss: 245.1158 - val_loss: 194.5511\n",
            "Epoch 12/50\n",
            "20/20 [==============================] - 0s 15ms/step - loss: 170.1076 - val_loss: 154.0078\n",
            "Epoch 13/50\n",
            "20/20 [==============================] - 0s 14ms/step - loss: 148.2352 - val_loss: 142.0613\n",
            "Epoch 14/50\n",
            "20/20 [==============================] - 0s 15ms/step - loss: 138.4040 - val_loss: 134.4347\n",
            "Epoch 15/50\n",
            "20/20 [==============================] - 0s 13ms/step - loss: 132.2587 - val_loss: 129.3362\n",
            "Epoch 16/50\n",
            "20/20 [==============================] - 0s 14ms/step - loss: 126.9658 - val_loss: 124.6114\n",
            "Epoch 17/50\n",
            "20/20 [==============================] - 0s 17ms/step - loss: 122.5692 - val_loss: 120.5112\n",
            "Epoch 18/50\n",
            "20/20 [==============================] - 0s 17ms/step - loss: 119.0967 - val_loss: 117.3457\n",
            "Epoch 19/50\n",
            "20/20 [==============================] - 0s 21ms/step - loss: 114.9059 - val_loss: 114.4577\n",
            "Epoch 20/50\n",
            "20/20 [==============================] - 0s 20ms/step - loss: 111.9662 - val_loss: 111.7169\n",
            "Epoch 21/50\n",
            "20/20 [==============================] - 0s 17ms/step - loss: 108.7590 - val_loss: 109.0559\n",
            "Epoch 22/50\n",
            "20/20 [==============================] - 0s 21ms/step - loss: 106.0007 - val_loss: 106.2727\n",
            "Epoch 23/50\n",
            "20/20 [==============================] - 0s 17ms/step - loss: 103.2047 - val_loss: 103.9760\n",
            "Epoch 24/50\n",
            "20/20 [==============================] - 0s 15ms/step - loss: 100.6566 - val_loss: 102.0826\n",
            "Epoch 25/50\n",
            "20/20 [==============================] - 0s 11ms/step - loss: 98.0651 - val_loss: 99.9564\n",
            "Epoch 26/50\n",
            "20/20 [==============================] - 0s 15ms/step - loss: 95.9335 - val_loss: 98.2236\n",
            "Epoch 27/50\n",
            "20/20 [==============================] - 0s 7ms/step - loss: 93.7238 - val_loss: 96.3971\n",
            "Epoch 28/50\n",
            "20/20 [==============================] - 0s 16ms/step - loss: 91.7403 - val_loss: 94.6848\n",
            "Epoch 29/50\n",
            "20/20 [==============================] - 0s 14ms/step - loss: 89.8543 - val_loss: 93.0231\n",
            "Epoch 30/50\n",
            "20/20 [==============================] - 0s 14ms/step - loss: 88.0096 - val_loss: 91.8054\n",
            "Epoch 31/50\n",
            "20/20 [==============================] - 0s 13ms/step - loss: 86.4303 - val_loss: 90.1811\n",
            "Epoch 32/50\n",
            "20/20 [==============================] - 0s 12ms/step - loss: 85.0153 - val_loss: 88.6348\n",
            "Epoch 33/50\n",
            "20/20 [==============================] - 0s 17ms/step - loss: 83.2558 - val_loss: 87.4731\n",
            "Epoch 34/50\n",
            "20/20 [==============================] - 0s 12ms/step - loss: 82.1736 - val_loss: 86.8030\n",
            "Epoch 35/50\n",
            "20/20 [==============================] - 0s 13ms/step - loss: 80.5796 - val_loss: 85.2252\n",
            "Epoch 36/50\n",
            "20/20 [==============================] - 0s 11ms/step - loss: 79.4949 - val_loss: 84.2928\n",
            "Epoch 37/50\n",
            "20/20 [==============================] - 0s 10ms/step - loss: 78.0142 - val_loss: 82.8902\n",
            "Epoch 38/50\n",
            "20/20 [==============================] - 0s 13ms/step - loss: 77.2505 - val_loss: 81.8805\n",
            "Epoch 39/50\n",
            "20/20 [==============================] - 0s 14ms/step - loss: 76.1357 - val_loss: 81.2264\n",
            "Epoch 40/50\n",
            "20/20 [==============================] - 0s 9ms/step - loss: 74.7951 - val_loss: 80.6495\n",
            "Epoch 41/50\n",
            "20/20 [==============================] - 0s 11ms/step - loss: 74.0011 - val_loss: 79.4554\n",
            "Epoch 42/50\n",
            "20/20 [==============================] - 0s 10ms/step - loss: 73.1531 - val_loss: 78.7780\n",
            "Epoch 43/50\n",
            "20/20 [==============================] - 0s 8ms/step - loss: 72.1995 - val_loss: 77.4703\n",
            "Epoch 44/50\n",
            "20/20 [==============================] - 0s 14ms/step - loss: 71.2734 - val_loss: 77.2493\n",
            "Epoch 45/50\n",
            "20/20 [==============================] - 0s 11ms/step - loss: 70.5525 - val_loss: 76.5321\n",
            "Epoch 46/50\n",
            "20/20 [==============================] - 0s 11ms/step - loss: 69.4873 - val_loss: 75.6253\n",
            "Epoch 47/50\n",
            "20/20 [==============================] - 0s 11ms/step - loss: 68.9431 - val_loss: 74.9617\n",
            "Epoch 48/50\n",
            "20/20 [==============================] - 0s 12ms/step - loss: 68.3280 - val_loss: 74.7866\n",
            "Epoch 49/50\n",
            "20/20 [==============================] - 0s 11ms/step - loss: 67.7603 - val_loss: 73.8316\n",
            "Epoch 50/50\n",
            "20/20 [==============================] - 0s 13ms/step - loss: 66.9983 - val_loss: 73.8702\n"
          ]
        }
      ],
      "source": [
        "deep_model = build_deep_learning_model(X_train_preprocessed.shape[1])\n",
        "history = deep_model.fit(X_train_preprocessed, y_train, epochs=50, validation_split=0.2, verbose=1)"
      ]
    },
    {
      "cell_type": "code",
      "execution_count": null,
      "id": "5sTFO9fxLvZN",
      "metadata": {
        "colab": {
          "base_uri": "https://localhost:8080/"
        },
        "id": "5sTFO9fxLvZN",
        "outputId": "f28bdb3c-07cd-4121-c3ba-67ccb883f901"
      },
      "outputs": [
        {
          "name": "stdout",
          "output_type": "stream",
          "text": [
            "7/7 [==============================] - 0s 4ms/step\n"
          ]
        }
      ],
      "source": [
        "# Evaluate deep learning model\n",
        "y_pred_dl = deep_model.predict(X_test_preprocessed)\n",
        "mse_dl = mean_squared_error(y_test, y_pred_dl)\n",
        "r2_dl = r2_score(y_test, y_pred_dl)\n",
        "results['Deep Learning'] = {'MSE': mse_dl, 'R^2': r2_dl}"
      ]
    },
    {
      "cell_type": "code",
      "execution_count": null,
      "id": "O3STdVsZLwKw",
      "metadata": {
        "colab": {
          "base_uri": "https://localhost:8080/"
        },
        "id": "O3STdVsZLwKw",
        "outputId": "df615cf3-c42d-4936-9391-6df7b60fd8b1"
      },
      "outputs": [
        {
          "name": "stdout",
          "output_type": "stream",
          "text": [
            "Deep Learning Model - MSE: 65.84, R^2: 0.82\n"
          ]
        }
      ],
      "source": [
        "print(f\"Deep Learning Model - MSE: {mse_dl:.2f}, R^2: {r2_dl:.2f}\")"
      ]
    },
    {
      "cell_type": "code",
      "execution_count": null,
      "id": "PKnkYQDyLyOk",
      "metadata": {
        "colab": {
          "base_uri": "https://localhost:8080/"
        },
        "id": "PKnkYQDyLyOk",
        "outputId": "f808ddc9-8ad4-4d96-b1b4-6453d2a96692"
      },
      "outputs": [
        {
          "name": "stdout",
          "output_type": "stream",
          "text": [
            "\n",
            "All Model Results:\n",
            "                                              MSE       R^2\n",
            "Linear Regression                       62.718642  0.828082\n",
            "Random Forest                           40.193626  0.889825\n",
            "Gradient Boosting                       46.295501  0.873100\n",
            "AdaBoost                                85.748902  0.764954\n",
            "K-Nearest Neighbors                     41.831200  0.885337\n",
            "Support Vector Regressor                55.992593  0.846519\n",
            "GBDT (Gradient Boosting Decision Tree)  46.295501  0.873100\n",
            "CatBoost                                42.938679  0.882301\n",
            "Deep Learning                           65.836036  0.819537\n"
          ]
        }
      ],
      "source": [
        "# Print results for all models\n",
        "print(\"\\nAll Model Results:\")\n",
        "results_df = pd.DataFrame(results).T\n",
        "print(results_df)"
      ]
    },
    {
      "cell_type": "code",
      "execution_count": null,
      "id": "ZVmIC-6xMj1y",
      "metadata": {
        "colab": {
          "base_uri": "https://localhost:8080/"
        },
        "id": "ZVmIC-6xMj1y",
        "outputId": "9f2b577a-fbb8-4c86-e4c5-18dfaac246f4"
      },
      "outputs": [
        {
          "name": "stdout",
          "output_type": "stream",
          "text": [
            "\n",
            "Best Model: Random Forest\n",
            "R^2: 0.89\n",
            "MSE: 40.19\n"
          ]
        }
      ],
      "source": [
        "# Identify the best model\n",
        "best_model_name = results_df['R^2'].idxmax()\n",
        "best_model_r2 = results_df['R^2'].max()\n",
        "best_model_mse = results_df.loc[best_model_name, 'MSE']\n",
        "\n",
        "print(f\"\\nBest Model: {best_model_name}\")\n",
        "print(f\"R^2: {best_model_r2:.2f}\")\n",
        "print(f\"MSE: {best_model_mse:.2f}\")"
      ]
    },
    {
      "cell_type": "code",
      "execution_count": null,
      "id": "jWjM6fZELzQy",
      "metadata": {
        "id": "jWjM6fZELzQy"
      },
      "outputs": [],
      "source": [
        "# Save model performances\n",
        "results_df.to_csv('model_performance.csv', index=True)"
      ]
    }
  ],
  "metadata": {
    "accelerator": "GPU",
    "colab": {
      "gpuType": "T4",
      "provenance": []
    },
    "kernelspec": {
      "display_name": "Python 3",
      "name": "python3"
    },
    "language_info": {
      "codemirror_mode": {
        "name": "ipython",
        "version": 3
      },
      "file_extension": ".py",
      "mimetype": "text/x-python",
      "name": "python",
      "nbconvert_exporter": "python",
      "pygments_lexer": "ipython3",
      "version": "3.12.2"
    }
  },
  "nbformat": 4,
  "nbformat_minor": 5
}
